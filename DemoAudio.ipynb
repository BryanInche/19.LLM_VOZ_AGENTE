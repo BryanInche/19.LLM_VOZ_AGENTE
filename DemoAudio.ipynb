{
 "cells": [
  {
   "cell_type": "code",
   "execution_count": 18,
   "metadata": {},
   "outputs": [],
   "source": [
    "#!pip install langchain\n",
    "#!pip install -U langchain-community\n",
    "#!pip install assemblyai"
   ]
  },
  {
   "cell_type": "code",
   "execution_count": 1,
   "metadata": {},
   "outputs": [],
   "source": [
    "from langchain.document_loaders import AssemblyAIAudioTranscriptLoader\n",
    "from langchain.llms import OpenAI\n",
    "from langchain.chains.question_answering import load_qa_chain"
   ]
  },
  {
   "cell_type": "code",
   "execution_count": 27,
   "metadata": {},
   "outputs": [
    {
     "name": "stdout",
     "output_type": "stream",
     "text": [
      "Brian itraho, commissioner, intrigue certificate.\n"
     ]
    }
   ],
   "source": [
    "# Configurar la API Key\n",
    "import os\n",
    "\n",
    "#API KEY DE Assembly AI\n",
    "#api_key = \"bf0a93ab806b4c45a3b7f7c22ba03837\"\n",
    "\n",
    "# Obtener la API Key desde la variable de entorno\n",
    "api_key2 = os.getenv(\"ASSEMBLYAI_API_KEY\")\n",
    "\n",
    "#file_audio = \"prueba_voz_LLM.mp3\"\n",
    "file_audio = \"voz_llm_2.mp3\"\n",
    "\n",
    "loader_audio = AssemblyAIAudioTranscriptLoader(file_path= file_audio, api_key=api_key2)\n",
    "documentos = loader_audio.load()\n",
    "\n",
    "print(documentos[0].page_content)\n",
    "#for i in documentos:\n",
    "#    print(i)"
   ]
  },
  {
   "cell_type": "code",
   "execution_count": 28,
   "metadata": {},
   "outputs": [
    {
     "name": "stdout",
     "output_type": "stream",
     "text": [
      "Brian itraho, commissioner, intrigue certificate.\n"
     ]
    }
   ],
   "source": [
    "print(documentos[0].page_content)"
   ]
  },
  {
   "cell_type": "code",
   "execution_count": 29,
   "metadata": {},
   "outputs": [],
   "source": [
    "from langchain_community.llms import Ollama  # Cambiar OpenAI por Ollama\n",
    "\n",
    "#llm_ollama = Ollama(model=\"mistral\", temperature=0)\n",
    "llm_ollama2 = Ollama(model=\"tinyllama\", temperature=0)"
   ]
  },
  {
   "cell_type": "code",
   "execution_count": 30,
   "metadata": {},
   "outputs": [
    {
     "name": "stdout",
     "output_type": "stream",
     "text": [
      "Question: Who is and what does he/she do?\n",
      "\n",
      "Answer: Brían Itrahó, commissioner, intrigue certificate.\n"
     ]
    }
   ],
   "source": [
    "cadena_voz = load_qa_chain(llm_ollama2, chain_type=\"stuff\")\n",
    "\n",
    "respuesta = cadena_voz.run(input_documents = documentos, question=\"Quien es y de que trabaja?\")\n",
    "\n",
    "print(respuesta)"
   ]
  },
  {
   "cell_type": "code",
   "execution_count": 36,
   "metadata": {},
   "outputs": [],
   "source": [
    "#!pip install gTTS"
   ]
  },
  {
   "cell_type": "code",
   "execution_count": 37,
   "metadata": {},
   "outputs": [
    {
     "data": {
      "text/plain": [
       "1"
      ]
     },
     "execution_count": 37,
     "metadata": {},
     "output_type": "execute_result"
    }
   ],
   "source": [
    "from gtts import gTTS\n",
    "# Convertir la respuesta a voz (TTS)\n",
    "tts = gTTS(text=respuesta, lang=\"es\")\n",
    "tts.save(\"respuesta.mp3\")\n",
    "os.system(\"mpg321 respuesta.mp3\")  # Reproducir el archivo de audio"
   ]
  },
  {
   "cell_type": "code",
   "execution_count": 40,
   "metadata": {},
   "outputs": [],
   "source": [
    "#!pip install SpeechRecognition\n",
    "#!pip install pydub"
   ]
  },
  {
   "cell_type": "markdown",
   "metadata": {},
   "source": [
    "### Usando Speech Reconocimint para pasar de VOZ a Texto"
   ]
  },
  {
   "cell_type": "code",
   "execution_count": 2,
   "metadata": {},
   "outputs": [],
   "source": [
    "import speech_recognition as sr\n",
    "from pydub import AudioSegment"
   ]
  },
  {
   "cell_type": "code",
   "execution_count": null,
   "metadata": {},
   "outputs": [],
   "source": [
    "# Función para convertir MP3 a WAV\n",
    "#def convert_mp3_to_wav(mp3_file, wav_file):\n",
    "#    audio = AudioSegment.from_mp3(mp3_file)\n",
    "#    audio.export(wav_file, format=\"wav\")\n",
    "\n",
    "# Función para transcribir el archivo de audio\n",
    "def transcribir_audio(audio_file):\n",
    "    recognizer = sr.Recognizer()\n",
    "    with sr.AudioFile(audio_file) as source:\n",
    "        audio = recognizer.record(source)\n",
    "        try:\n",
    "            text = recognizer.recognize_google(audio, language=\"es-ES\")\n",
    "            print(\"Texto transcrito:\", text)\n",
    "            return text\n",
    "        except sr.UnknownValueError:\n",
    "            print(\"No se pudo entender el audio\")\n",
    "        except sr.RequestError as e:\n",
    "            print(f\"Error al solicitar resultados: {e}\")"
   ]
  },
  {
   "cell_type": "code",
   "execution_count": 6,
   "metadata": {},
   "outputs": [
    {
     "name": "stdout",
     "output_type": "stream",
     "text": [
      "Texto transcrito: Hola Mi nombre es Brian y trabajo como ingeniero de Inteligencia artificial\n"
     ]
    }
   ],
   "source": [
    "# Archivo de audio\n",
    "#mp3_file = \"voz_llm_2.mp3\"\n",
    "wav_file = \"voz_llm_2.wav\"\n",
    "\n",
    "# Convertir MP3 a WAV (si es necesario)\n",
    "#convert_mp3_to_wav(mp3_file, wav_file)\n",
    "\n",
    "# Transcribir el archivo WAV\n",
    "texto_transcrito = transcribir_audio(wav_file)"
   ]
  },
  {
   "cell_type": "code",
   "execution_count": 7,
   "metadata": {},
   "outputs": [
    {
     "data": {
      "text/plain": [
       "'Hola Mi nombre es Brian y trabajo como ingeniero de Inteligencia artificial'"
      ]
     },
     "execution_count": 7,
     "metadata": {},
     "output_type": "execute_result"
    }
   ],
   "source": [
    "texto_transcrito"
   ]
  },
  {
   "cell_type": "code",
   "execution_count": null,
   "metadata": {},
   "outputs": [],
   "source": [
    "import speech_recognition as sr  #procesar voz y capturar lo que el usuario dice a través del micrófono.\n",
    "from langchain_community.llms import Ollama # Modelo LLM\n",
    "from gtts import gTTS  # Para convertir respuesta de LLM en voz\n",
    "import os  # Acceder a archivos del sistema\n",
    "\n",
    "# Función para capturar audio en tiempo real\n",
    "def capturar_audio():\n",
    "    # Objeto Recognizer para manejar la captura y transcripción de audio\n",
    "    recognizer = sr.Recognizer()\n",
    "    with sr.Microphone() as source: #Abre el micrófono como fuente de audio\n",
    "        print(\"Escuchando...\")\n",
    "        audio = recognizer.listen(source) #Capturamos el audio del micrófono.\n",
    "        try:\n",
    "            #Transcribir el audio a texto en español\n",
    "            text = recognizer.recognize_google(audio, language=\"es-ES\")\n",
    "            print(\"Usuario:\", text)\n",
    "            return text  #texto transcrito\n",
    "        except sr.UnknownValueError:\n",
    "            print(\"No se pudo entender el audio\")\n",
    "        except sr.RequestError as e:\n",
    "            print(f\"Error al solicitar resultados: {e}\")\n",
    "\n",
    "# Función para generar una respuesta con el modelo de lenguaje\n",
    "def generar_respuesta(texto_usuario):\n",
    "    # Cargar el modelo de Ollama\n",
    "    llm_ollama = Ollama(model=\"tinyllama\", temperature=0.3)\n",
    "\n",
    "    # Generar una respuesta basada en lo que dijo el usuario\n",
    "    respuesta = llm_ollama(texto_usuario)\n",
    "    return respuesta\n",
    "\n",
    "# Función para convertir texto a voz\n",
    "def texto_a_voz(texto, archivo_salida=\"respuesta.mp3\"):\n",
    "    tts = gTTS(text=texto, lang=\"es\") #objeto para convertir el texto en voz en español\n",
    "    tts.save(archivo_salida) #Guarda la voz generada en un archivo MP3\n",
    "    print(f\"Agente:\", texto)\n",
    "    os.system(f\"mpg321 {archivo_salida}\")  # Reproducir el archivo de audio\n",
    "\n",
    "# Interacción en tiempo real\n",
    "print(\"Bienvenido al Agente de Voz de ATOM. ¿En qué puedo ayudarte hoy?\")\n",
    "texto_a_voz(\"Bienvenido al Agente de Voz de ATOM. ¿En qué puedo ayudarte hoy?\")\n",
    "\n",
    "while True: #Creamos un bucle infinito para mantener la conversación.\n",
    "    # 1. Captura lo que el usuario dice y lo transcribe a texto\n",
    "    texto_usuario = capturar_audio()\n",
    "    if texto_usuario:\n",
    "        # 2. LLM genera una respuesta basada en lo que dijo el usuario\n",
    "        respuesta = generar_respuesta(texto_usuario)\n",
    "        \n",
    "        # 3. Se Convierte la respuesta de texto a voz y reproducirla\n",
    "        texto_a_voz(respuesta)"
   ]
  },
  {
   "cell_type": "code",
   "execution_count": null,
   "metadata": {},
   "outputs": [],
   "source": []
  },
  {
   "cell_type": "code",
   "execution_count": null,
   "metadata": {},
   "outputs": [],
   "source": []
  },
  {
   "cell_type": "code",
   "execution_count": null,
   "metadata": {},
   "outputs": [],
   "source": []
  },
  {
   "cell_type": "code",
   "execution_count": null,
   "metadata": {},
   "outputs": [],
   "source": []
  },
  {
   "cell_type": "code",
   "execution_count": null,
   "metadata": {},
   "outputs": [],
   "source": [
    "##"
   ]
  },
  {
   "cell_type": "code",
   "execution_count": 4,
   "metadata": {},
   "outputs": [],
   "source": [
    "import json\n",
    "def parse_respuesta(respuesta):\n",
    "    \"\"\"Parsea la respuesta del modelo LLM asegurando que sea un JSON válido.\"\"\"\n",
    "    try:\n",
    "        if isinstance(respuesta, str):  # Si la respuesta es un string, intenta convertirla en JSON\n",
    "            respuesta = json.loads(respuesta.strip())\n",
    "        if isinstance(respuesta, dict):  # Si ya es un diccionario, verificar que tenga la estructura esperada\n",
    "            return {\n",
    "                \"intencion\": respuesta.get(\"intencion\", \"\"),\n",
    "                \"nombre\": respuesta.get(\"nombre\"),\n",
    "                \"empresa\": respuesta.get(\"empresa\"),\n",
    "                \"necesidad\": respuesta.get(\"necesidad\"),\n",
    "                \"presupuesto\": respuesta.get(\"presupuesto\"),\n",
    "                \"respuesta\": respuesta.get(\"respuesta\", \"No tengo información para responder.\")\n",
    "            }\n",
    "        else:\n",
    "            raise ValueError(\"La respuesta no es un diccionario válido\")\n",
    "    except json.JSONDecodeError:\n",
    "        print(\"Error al convertir la respuesta en JSON:\", respuesta)\n",
    "        return {\"respuesta\": respuesta}  # Devolver un valor por defecto en caso de error"
   ]
  }
 ],
 "metadata": {
  "kernelspec": {
   "display_name": "Python 3",
   "language": "python",
   "name": "python3"
  },
  "language_info": {
   "codemirror_mode": {
    "name": "ipython",
    "version": 3
   },
   "file_extension": ".py",
   "mimetype": "text/x-python",
   "name": "python",
   "nbconvert_exporter": "python",
   "pygments_lexer": "ipython3",
   "version": "3.13.1"
  }
 },
 "nbformat": 4,
 "nbformat_minor": 2
}
